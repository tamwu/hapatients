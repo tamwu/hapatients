{
 "cells": [
  {
   "cell_type": "markdown",
   "metadata": {},
   "source": [
    "### IBM AutoAI-SDK Auto-Generated Notebook v1.11.12\n",
    "\n",
    "**Note:** Notebook code generated using AutoAI will execute successfully. If code is modified or reordered,   \n",
    "there is no guarantee it will successfully execute. This pipeline is optimized for the original dataset.  \n",
    "The pipeline may fail or produce sub-optimium results if used with different data. For different data,  \n",
    "please consider returning to AutoAI Experiments to generate a new pipeline. Please read our documentation   \n",
    "for more information:   \n",
    "<a href=\"https://dataplatform.cloud.ibm.com/docs/content/wsj/analyze-data/autoai-notebook.html\">Cloud Platform</a>  \n",
    "\n",
    "\n",
    "Before modifying the pipeline or trying to re-fit the pipeline, consider:   \n",
    "The notebook converts dataframes to numpy arrays before fitting the pipeline   \n",
    "(a current restriction of the preprocessor pipeline). The known_values_list is passed by reference   \n",
    "and populated with categorical values during fit of the preprocessing pipeline. Delete its members before re-fitting."
   ]
  },
  {
   "cell_type": "markdown",
   "metadata": {},
   "source": [
    "<a id=\"content\"></a>\n",
    "## Notebook content\n",
    "\n",
    "This notebook contains steps and code to demonstrate AutoAI pipeline. This notebook introduces commands for getting data,  \n",
    "pipeline model, model inspection and testing.\n",
    "\n",
    "Some familiarity with Python is helpful. This notebook uses Python 3."
   ]
  },
  {
   "cell_type": "markdown",
   "metadata": {
    "pycharm": {
     "name": "#%% md\n"
    }
   },
   "source": [
    "## Notebook goals\n",
    "\n",
    "-  inspection of trained pipeline via graphical vizualization and source code preview.\n",
    "-  pipeline evaluation.\n",
    "-  pipeline deployment and webservice scoring\n",
    "\n",
    "## Contents\n",
    "\n",
    "This notebook contains the following parts:\n",
    "\n",
    "1.\t[Setup](#setup)     \n",
    "    a.  [Connection to WML](#wml_connection)        \n",
    "    b.  [Defined variables from experiment](#variables_definition)      \n",
    "2.\t[Pipeline inspection](#inspection)      \n",
    "    a.  [Get historical optimizer instance and training details](#get_hist_and_train)      \n",
    "    b.  [Get pipeline](#get_pipeline)      \n",
    "    c.  [Preview pipeline model to python code representation](#preview_model_to_python_code)      \n",
    "    d.  [Visualize pipeline](#visualize_pipeline)      \n",
    "    e.  [Reading training and holdout](#train_holdout_read)      \n",
    "    f.  [Test pipeline model locally](#test_model)      \n",
    "3.\t[Pipeline refinery](#refinery)      \n",
    "    a.  [Pipeline definition source code](#pipeline_definition)      \n",
    "    b.  [Lale library](#lale_library)      \n",
    "4.\t[Deployment and scoring](#scoring)      \n",
    "    a.  [Deployment creation](#deployment)      \n",
    "    b.  [Scoring of webservice](#online_scoring)      \n",
    "    c.  [Deleting deployment](#delete_deployment)      \n",
    "5.  [Authors](#authors)      "
   ]
  },
  {
   "cell_type": "markdown",
   "metadata": {},
   "source": [
    "<a id=\"setup\"></a>\n",
    "# Setup\n",
    "\n",
    "Before you use the sample code in this notebook, you must perform the following setup tasks:\n",
    " - `watson-machine-learning-client` uninstallation of the old client\n",
    " - `watson-machine-learning-client-V4` installation\n",
    " - `autoai-libs` installation/upgrade\n",
    " - `lightgbm` installation/downgrade \n",
    " - `xgboost` installation/downgrade"
   ]
  },
  {
   "cell_type": "code",
   "execution_count": 1,
   "metadata": {
    "pycharm": {
     "name": "#%%\n"
    }
   },
   "outputs": [
    {
     "name": "stdout",
     "output_type": "stream",
     "text": [
      "\u001b[33mWARNING: Skipping watson-machine-learning-client as it is not installed.\u001b[0m\r\n"
     ]
    }
   ],
   "source": [
    "!pip uninstall watson-machine-learning-client -y"
   ]
  },
  {
   "cell_type": "code",
   "execution_count": 2,
   "metadata": {
    "pycharm": {
     "is_executing": false,
     "name": "#%%\n"
    }
   },
   "outputs": [
    {
     "name": "stdout",
     "output_type": "stream",
     "text": [
      "Requirement already up-to-date: watson-machine-learning-client-V4 in /opt/conda/envs/Python36/lib/python3.6/site-packages (1.0.95)\n",
      "Requirement already satisfied, skipping upgrade: pandas<=0.25.3 in /opt/conda/envs/Python36/lib/python3.6/site-packages (from watson-machine-learning-client-V4) (0.25.3)\n",
      "Requirement already satisfied, skipping upgrade: tabulate in /opt/conda/envs/Python36/lib/python3.6/site-packages (from watson-machine-learning-client-V4) (0.8.2)\n",
      "Requirement already satisfied, skipping upgrade: requests in /opt/conda/envs/Python36/lib/python3.6/site-packages (from watson-machine-learning-client-V4) (2.21.0)\n",
      "Requirement already satisfied, skipping upgrade: certifi in /opt/conda/envs/Python36/lib/python3.6/site-packages (from watson-machine-learning-client-V4) (2020.4.5.1)\n",
      "Requirement already satisfied, skipping upgrade: urllib3 in /opt/conda/envs/Python36/lib/python3.6/site-packages (from watson-machine-learning-client-V4) (1.24.1)\n",
      "Requirement already satisfied, skipping upgrade: ibm-cos-sdk==2.6.0 in /opt/conda/envs/Python36/lib/python3.6/site-packages (from watson-machine-learning-client-V4) (2.6.0)\n",
      "Requirement already satisfied, skipping upgrade: lomond in /opt/conda/envs/Python36/lib/python3.6/site-packages (from watson-machine-learning-client-V4) (0.3.3)\n",
      "Requirement already satisfied, skipping upgrade: numpy>=1.13.3 in /opt/conda/envs/Python36/lib/python3.6/site-packages (from pandas<=0.25.3->watson-machine-learning-client-V4) (1.18.4)\n",
      "Requirement already satisfied, skipping upgrade: pytz>=2017.2 in /opt/conda/envs/Python36/lib/python3.6/site-packages (from pandas<=0.25.3->watson-machine-learning-client-V4) (2018.9)\n",
      "Requirement already satisfied, skipping upgrade: python-dateutil>=2.6.1 in /opt/conda/envs/Python36/lib/python3.6/site-packages (from pandas<=0.25.3->watson-machine-learning-client-V4) (2.7.5)\n",
      "Requirement already satisfied, skipping upgrade: idna<2.9,>=2.5 in /opt/conda/envs/Python36/lib/python3.6/site-packages (from requests->watson-machine-learning-client-V4) (2.8)\n",
      "Requirement already satisfied, skipping upgrade: chardet<3.1.0,>=3.0.2 in /opt/conda/envs/Python36/lib/python3.6/site-packages (from requests->watson-machine-learning-client-V4) (3.0.4)\n",
      "Requirement already satisfied, skipping upgrade: ibm-cos-sdk-core==2.6.0 in /opt/conda/envs/Python36/lib/python3.6/site-packages (from ibm-cos-sdk==2.6.0->watson-machine-learning-client-V4) (2.6.0)\n",
      "Requirement already satisfied, skipping upgrade: jmespath<1.0.0,>=0.7.1 in /opt/conda/envs/Python36/lib/python3.6/site-packages (from ibm-cos-sdk==2.6.0->watson-machine-learning-client-V4) (0.9.3)\n",
      "Requirement already satisfied, skipping upgrade: ibm-cos-sdk-s3transfer==2.6.0 in /opt/conda/envs/Python36/lib/python3.6/site-packages (from ibm-cos-sdk==2.6.0->watson-machine-learning-client-V4) (2.6.0)\n",
      "Requirement already satisfied, skipping upgrade: six>=1.10.0 in /opt/conda/envs/Python36/lib/python3.6/site-packages (from lomond->watson-machine-learning-client-V4) (1.12.0)\n",
      "Requirement already satisfied, skipping upgrade: docutils<0.16,>=0.10 in /opt/conda/envs/Python36/lib/python3.6/site-packages (from ibm-cos-sdk-core==2.6.0->ibm-cos-sdk==2.6.0->watson-machine-learning-client-V4) (0.14)\n"
     ]
    }
   ],
   "source": [
    "!pip install -U watson-machine-learning-client-V4"
   ]
  },
  {
   "cell_type": "code",
   "execution_count": 3,
   "metadata": {
    "pycharm": {
     "name": "#%%\n"
    }
   },
   "outputs": [
    {
     "name": "stdout",
     "output_type": "stream",
     "text": [
      "Requirement already up-to-date: autoai-libs in /opt/conda/envs/Python36/lib/python3.6/site-packages (1.10.11)\n",
      "Requirement already satisfied, skipping upgrade: scikit-learn==0.20.3 in /opt/conda/envs/Python36/lib/python3.6/site-packages (from autoai-libs) (0.20.3)\n",
      "Requirement already satisfied, skipping upgrade: numpy>=1.16.4 in /opt/conda/envs/Python36/lib/python3.6/site-packages (from autoai-libs) (1.18.4)\n",
      "Requirement already satisfied, skipping upgrade: category-encoders==2.1.0 in /opt/conda/envs/Python36/lib/python3.6/site-packages (from autoai-libs) (2.1.0)\n",
      "Requirement already satisfied, skipping upgrade: pandas<1.0.0,>=0.24.2 in /opt/conda/envs/Python36/lib/python3.6/site-packages (from autoai-libs) (0.25.3)\n",
      "Requirement already satisfied, skipping upgrade: scipy>=0.13.3 in /opt/conda/envs/Python36/lib/python3.6/site-packages (from scikit-learn==0.20.3->autoai-libs) (1.2.0)\n",
      "Requirement already satisfied, skipping upgrade: patsy>=0.4.1 in /opt/conda/envs/Python36/lib/python3.6/site-packages (from category-encoders==2.1.0->autoai-libs) (0.5.1)\n",
      "Requirement already satisfied, skipping upgrade: statsmodels>=0.6.1 in /opt/conda/envs/Python36/lib/python3.6/site-packages (from category-encoders==2.1.0->autoai-libs) (0.9.0)\n",
      "Requirement already satisfied, skipping upgrade: python-dateutil>=2.6.1 in /opt/conda/envs/Python36/lib/python3.6/site-packages (from pandas<1.0.0,>=0.24.2->autoai-libs) (2.7.5)\n",
      "Requirement already satisfied, skipping upgrade: pytz>=2017.2 in /opt/conda/envs/Python36/lib/python3.6/site-packages (from pandas<1.0.0,>=0.24.2->autoai-libs) (2018.9)\n",
      "Requirement already satisfied, skipping upgrade: six in /opt/conda/envs/Python36/lib/python3.6/site-packages (from patsy>=0.4.1->category-encoders==2.1.0->autoai-libs) (1.12.0)\n"
     ]
    }
   ],
   "source": [
    "!pip install -U autoai-libs"
   ]
  },
  {
   "cell_type": "code",
   "execution_count": 4,
   "metadata": {
    "pycharm": {
     "name": "#%%\n"
    }
   },
   "outputs": [
    {
     "name": "stdout",
     "output_type": "stream",
     "text": [
      "Requirement already up-to-date: lightgbm==2.2.3 in /opt/conda/envs/Python36/lib/python3.6/site-packages (2.2.3)\r\n",
      "Requirement already satisfied, skipping upgrade: scikit-learn in /opt/conda/envs/Python36/lib/python3.6/site-packages (from lightgbm==2.2.3) (0.20.3)\r\n",
      "Requirement already satisfied, skipping upgrade: scipy in /opt/conda/envs/Python36/lib/python3.6/site-packages (from lightgbm==2.2.3) (1.2.0)\r\n",
      "Requirement already satisfied, skipping upgrade: numpy in /opt/conda/envs/Python36/lib/python3.6/site-packages (from lightgbm==2.2.3) (1.18.4)\r\n"
     ]
    }
   ],
   "source": [
    "!pip install -U lightgbm==2.2.3"
   ]
  },
  {
   "cell_type": "code",
   "execution_count": 5,
   "metadata": {
    "pycharm": {
     "name": "#%%\n"
    }
   },
   "outputs": [
    {
     "name": "stdout",
     "output_type": "stream",
     "text": [
      "Requirement already up-to-date: xgboost==0.90 in /opt/conda/envs/Python36/lib/python3.6/site-packages (0.90)\r\n",
      "Requirement already satisfied, skipping upgrade: numpy in /opt/conda/envs/Python36/lib/python3.6/site-packages (from xgboost==0.90) (1.18.4)\r\n",
      "Requirement already satisfied, skipping upgrade: scipy in /opt/conda/envs/Python36/lib/python3.6/site-packages (from xgboost==0.90) (1.2.0)\r\n"
     ]
    }
   ],
   "source": [
    "!pip install -U xgboost==0.90"
   ]
  },
  {
   "cell_type": "markdown",
   "metadata": {},
   "source": [
    "<a id=\"wml_connection\"></a>\n",
    "### Connect to WML\n",
    "**Action:** Next you will need credentials for Watson Machine Learning:\n",
    " - go to [Cloud catalog resources list](https://cloud.ibm.com/resources)\n",
    " - click on Services and chose Machine Learning service. Once you are there\n",
    " - click the **Service Credentials** link on the left side of the screen\n",
    " - click to expand specific credentials name.\n",
    " - copy and paste your WML credentials into the cell below\n",
    "\n",
    "*Take in mind that WML Service instance should be the same as used to generate this notebook.*"
   ]
  },
  {
   "cell_type": "code",
   "execution_count": 6,
   "metadata": {
    "pycharm": {
     "is_executing": false
    },
    "scrolled": true
   },
   "outputs": [],
   "source": [
    "wml_credentials = {\n",
    "  \"apikey\": \"dtwMNNGehXjFNi4oy7vqRfNiGCMc1x2m3T528iZyovAP\",\n",
    "  \"iam_apikey_description\": \"Auto-generated for key 65fd2694-ccd4-40ef-8516-9d3abebde081\",\n",
    "  \"iam_apikey_name\": \"wdp-writer\",\n",
    "  \"iam_role_crn\": \"crn:v1:bluemix:public:iam::::serviceRole:Writer\",\n",
    "  \"iam_serviceid_crn\": \"crn:v1:bluemix:public:iam-identity::a/040d11b0eaf244d38310d153982d954f::serviceid:ServiceId-acc7e40c-1f83-4759-bc65-1cfd748049e6\",\n",
    "  \"instance_id\": \"1e5c6153-b5f6-4d89-b7ae-2e2e729d39c1\",\n",
    "  \"url\": \"https://us-south.ml.cloud.ibm.com\" \n",
    "}"
   ]
  },
  {
   "cell_type": "markdown",
   "metadata": {},
   "source": [
    "<a id=\"variables_definition\"></a>\n",
    "### Defined variables from experiment\n",
    "\n",
    "This cell contains input parameters provided to run the AutoAI experiment in Watson Studio."
   ]
  },
  {
   "cell_type": "code",
   "execution_count": 7,
   "metadata": {
    "pycharm": {
     "name": "#%%\n"
    }
   },
   "outputs": [],
   "source": [
    "run_id = '28e984f2-48e0-4541-aa61-92773d5811b5'\n",
    "pipeline_name = 'Pipeline_1'\n",
    "scorer = 'accuracy'\n",
    "target_label_name = 'HEARTFAILURE'"
   ]
  },
  {
   "cell_type": "markdown",
   "metadata": {
    "pycharm": {
     "name": "#%% md\n"
    }
   },
   "source": [
    "<a id=\"inspection\"></a>\n",
    "## Pipeline inspection\n",
    "In this section you will get the trained pipeline model from the AutoAI experiment and inspect it.  \n",
    "You will see pipeline as a pythone code, graphically visualized and at the end, you will perform a local test.\n"
   ]
  },
  {
   "cell_type": "markdown",
   "metadata": {
    "pycharm": {
     "name": "#%% md\n"
    }
   },
   "source": [
    "<a id=\"get_hist_and_train\"></a>\n",
    "### Get historical optimizer instance and training details\n",
    "\n",
    "The next cell contains code for retrieving fitted optimizer."
   ]
  },
  {
   "cell_type": "code",
   "execution_count": 8,
   "metadata": {
    "pycharm": {
     "is_executing": false,
     "name": "#%%\n"
    }
   },
   "outputs": [],
   "source": [
    "from watson_machine_learning_client.experiment import AutoAI\n",
    "\n",
    "experiment = AutoAI(wml_credentials)\n",
    "optimizer = experiment.runs.get_optimizer(run_id)"
   ]
  },
  {
   "cell_type": "markdown",
   "metadata": {
    "pycharm": {
     "name": "#%% md\n"
    }
   },
   "source": [
    "<a id=\"get_pipeline\"></a>\n",
    "### Get pipeline\n",
    "\n",
    "The following cell loads selected AutoAI pipeline model. If you want to get pure scikit-learn pipeline specify `as_type='sklearn'` parameter. By default enriched scikit-learn pipeline is returned `as_type='lale'`."
   ]
  },
  {
   "cell_type": "code",
   "execution_count": 9,
   "metadata": {
    "pycharm": {
     "is_executing": false,
     "name": "#%%\n"
    }
   },
   "outputs": [],
   "source": [
    "pipeline_model = optimizer.get_pipeline(pipeline_name=pipeline_name)"
   ]
  },
  {
   "cell_type": "markdown",
   "metadata": {
    "pycharm": {
     "name": "#%% md\n"
    }
   },
   "source": [
    "<a id=\"preview_model_to_python_code\"></a>\n",
    "### Preview pipeline model as python code\n",
    "In the next cell, downloaded pipeline model could be previewed as a python code.  \n",
    "You will be able to see what exact steps are involved in model creation."
   ]
  },
  {
   "cell_type": "code",
   "execution_count": 10,
   "metadata": {
    "pycharm": {
     "name": "#%%\n"
    }
   },
   "outputs": [
    {
     "data": {
      "text/markdown": [
       "```python\n",
       "from lale.lib.autoai_libs import NumpyColumnSelector\n",
       "from lale.lib.autoai_libs import CompressStrings\n",
       "from lale.lib.autoai_libs import NumpyReplaceMissingValues\n",
       "from lale.lib.autoai_libs import NumpyReplaceUnknownValues\n",
       "from lale.lib.autoai_libs import boolean2float\n",
       "from lale.lib.autoai_libs import CatImputer\n",
       "from lale.lib.autoai_libs import CatEncoder\n",
       "import numpy as np\n",
       "from lale.lib.autoai_libs import float32_transform\n",
       "from lale.operators import make_pipeline\n",
       "from lale.lib.autoai_libs import FloatStr2Float\n",
       "from lale.lib.autoai_libs import NumImputer\n",
       "from lale.lib.autoai_libs import OptStandardScaler\n",
       "from lale.operators import make_union\n",
       "from lale.lib.autoai_libs import NumpyPermuteArray\n",
       "from lale.lib.sklearn import GradientBoostingClassifier\n",
       "\n",
       "numpy_column_selector_0 = NumpyColumnSelector(columns=[1, 2, 3, 4, 5, 6, 7])\n",
       "compress_strings = CompressStrings(compress_type='hash', dtypes_list=['int_num', 'int_num', 'int_num', 'int_num', 'char_str', 'char_str', 'char_str'], missing_values_reference_list=['', '-', '?', float('nan')], misslist_list=[[], [], [], [], [], [], []])\n",
       "numpy_replace_missing_values_0 = NumpyReplaceMissingValues(filling_values=float('nan'), missing_values=[])\n",
       "numpy_replace_unknown_values = NumpyReplaceUnknownValues(filling_values=float('nan'), filling_values_list=[float('nan'), float('nan'), float('nan'), float('nan'), float('nan'), float('nan'), float('nan')], known_values_list=[[0, 1, 2, 3, 4, 5, 6, 7, 8, 9, 10, 11, 12, 13, 14, 15, 16, 17, 18, 19, 20, 21, 22, 23, 24, 25, 26, 27, 28, 29, 30, 31, 32, 33, 34, 35, 36, 37, 38, 39, 40, 41, 42, 43, 44, 45], [150, 151, 152, 153, 154, 155, 156, 157, 158, 159, 160, 161, 162, 163, 164, 165, 166, 167, 168, 169, 170, 171, 172, 173, 174, 175, 176, 177, 178, 179, 180, 181, 182, 183, 184, 185, 186, 187, 188, 189, 190, 191, 192, 193, 194, 195, 196, 197, 198, 199, 200, 201, 202, 203, 204, 205, 206, 207, 208, 209, 210, 211, 212, 213, 214, 215, 216, 217, 218, 219, 220, 221, 222, 223, 224, 225, 226, 227, 228, 229, 230, 231, 232, 233, 234, 235, 236, 237, 238, 239, 240, 241, 242, 243, 244, 245], [20, 21, 22, 23, 24, 25, 26, 27, 28, 29, 30, 31, 32, 33, 34], [28, 29, 30, 31, 32, 33, 34, 35, 36, 37, 38, 39, 40, 41, 42, 43, 44, 45, 46, 47, 48, 49, 50, 51, 52, 53, 54, 55, 56, 57, 58, 59, 60, 61, 62, 63, 64, 65, 66, 67, 68, 69, 70, 71, 72], [170172835760119224333519554008280666130, 140114708448418632577632402066430035116], [188232129152488152603460248363708042922, 116716425681947542349874901877587682272], [188232129152488152603460248363708042922, 116716425681947542349874901877587682272]], missing_values_reference_list=['', '-', '?', float('nan')])\n",
       "cat_imputer = CatImputer(missing_values=float('nan'), sklearn_version_family='20', strategy='most_frequent')\n",
       "cat_encoder = CatEncoder(dtype=np.float64, handle_unknown='error', sklearn_version_family='20')\n",
       "pipeline_0 = make_pipeline(numpy_column_selector_0, compress_strings, numpy_replace_missing_values_0, numpy_replace_unknown_values, boolean2float(), cat_imputer, cat_encoder, float32_transform())\n",
       "numpy_column_selector_1 = NumpyColumnSelector(columns=[0, 8])\n",
       "float_str2_float = FloatStr2Float(dtypes_list=['int_num', 'int_num'], missing_values_reference_list=[])\n",
       "numpy_replace_missing_values_1 = NumpyReplaceMissingValues(filling_values=float('nan'), missing_values=[])\n",
       "num_imputer = NumImputer(missing_values=float('nan'), strategy='median')\n",
       "opt_standard_scaler = OptStandardScaler(num_scaler_copy=None, num_scaler_with_mean=None, num_scaler_with_std=None, use_scaler_flag=False)\n",
       "pipeline_1 = make_pipeline(numpy_column_selector_1, float_str2_float, numpy_replace_missing_values_1, num_imputer, opt_standard_scaler, float32_transform())\n",
       "union = make_union(pipeline_0, pipeline_1)\n",
       "numpy_permute_array = NumpyPermuteArray(axis=0, permutation_indices=[1, 2, 3, 4, 5, 6, 7, 0, 8])\n",
       "gradient_boosting_classifier = GradientBoostingClassifier(random_state=33)\n",
       "pipeline = make_pipeline(union, numpy_permute_array, gradient_boosting_classifier)\n",
       "```"
      ],
      "text/plain": [
       "<IPython.core.display.Markdown object>"
      ]
     },
     "metadata": {},
     "output_type": "display_data"
    }
   ],
   "source": [
    "pipeline_model.pretty_print(combinators=False, ipython_display=True)"
   ]
  },
  {
   "cell_type": "markdown",
   "metadata": {
    "pycharm": {
     "name": "#%% md\n"
    }
   },
   "source": [
    "<a id=\"visualize_pipeline\"></a>\n",
    "### Visualize pipeline\n",
    "\n",
    "Preview pipeline model stages as graph. Each node's name links to detailed description of the stage.\n"
   ]
  },
  {
   "cell_type": "code",
   "execution_count": 11,
   "metadata": {
    "pycharm": {
     "is_executing": false,
     "name": "#%%\n"
    }
   },
   "outputs": [
    {
     "data": {
      "image/svg+xml": [
       "<?xml version=\"1.0\" encoding=\"UTF-8\" standalone=\"no\"?>\n",
       "<!DOCTYPE svg PUBLIC \"-//W3C//DTD SVG 1.1//EN\"\n",
       " \"http://www.w3.org/Graphics/SVG/1.1/DTD/svg11.dtd\">\n",
       "<!-- Generated by graphviz version 2.40.1 (20161225.0304)\n",
       " -->\n",
       "<!-- Title: cluster:(root) Pages: 1 -->\n",
       "<svg width=\"1325pt\" height=\"149pt\"\n",
       " viewBox=\"0.00 0.00 1325.26 148.54\" xmlns=\"http://www.w3.org/2000/svg\" xmlns:xlink=\"http://www.w3.org/1999/xlink\">\n",
       "<g id=\"graph0\" class=\"graph\" transform=\"scale(1 1) rotate(0) translate(4 144.5391)\">\n",
       "<title>cluster:(root)</title>\n",
       "<g id=\"a_graph0\"><a xlink:title=\"(root) = ...\">\n",
       "<polygon fill=\"#ffffff\" stroke=\"transparent\" points=\"-4,4 -4,-144.5391 1321.2589,-144.5391 1321.2589,4 -4,4\"/>\n",
       "</a>\n",
       "</g>\n",
       "<!-- numpy_column_selector_0 -->\n",
       "<g id=\"node1\" class=\"node\">\n",
       "<title>numpy_column_selector_0</title>\n",
       "<g id=\"a_node1\"><a xlink:href=\"https://lale.readthedocs.io/en/latest/modules/lale.lib.autoai_libs.numpy_column_selector.html\" xlink:title=\"numpy_column_selector_0 = NumpyColumnSelector(columns=[1, 2, 3, 4, 5, 6, 7])\">\n",
       "<ellipse fill=\"#ffffff\" stroke=\"#000000\" cx=\"39.598\" cy=\"-103.7696\" rx=\"39.6962\" ry=\"28.0702\"/>\n",
       "<text text-anchor=\"middle\" x=\"39.598\" y=\"-112.9696\" font-family=\"Times,serif\" font-size=\"11.00\" fill=\"#000000\">Numpy&#45;</text>\n",
       "<text text-anchor=\"middle\" x=\"39.598\" y=\"-100.9696\" font-family=\"Times,serif\" font-size=\"11.00\" fill=\"#000000\">Column&#45;</text>\n",
       "<text text-anchor=\"middle\" x=\"39.598\" y=\"-88.9696\" font-family=\"Times,serif\" font-size=\"11.00\" fill=\"#000000\">Selector</text>\n",
       "</a>\n",
       "</g>\n",
       "</g>\n",
       "<!-- compress_strings -->\n",
       "<g id=\"node2\" class=\"node\">\n",
       "<title>compress_strings</title>\n",
       "<g id=\"a_node2\"><a xlink:href=\"https://lale.readthedocs.io/en/latest/modules/lale.lib.autoai_libs.compress_strings.html\" xlink:title=\"compress_strings = CompressStrings(compress_type=&#39;hash&#39;, dtypes_list=[&#39;int_num&#39;, &#39;int_num&#39;, &#39;int_num&#39;, &#39;int_num&#39;, &#39;char_str&#39;, &#39;char_str&#39;, &#39;char_str&#39;], missing_values_reference_list=[&#39;&#39;, &#39;&#45;&#39;, &#39;?&#39;, float(&#39;nan&#39;)], misslist_list=[[], [], [], [], [], [], []])\">\n",
       "<ellipse fill=\"#ffffff\" stroke=\"#000000\" cx=\"163.9863\" cy=\"-103.7696\" rx=\"48.5816\" ry=\"19.6\"/>\n",
       "<text text-anchor=\"middle\" x=\"163.9863\" y=\"-106.9696\" font-family=\"Times,serif\" font-size=\"11.00\" fill=\"#000000\">Compress&#45;</text>\n",
       "<text text-anchor=\"middle\" x=\"163.9863\" y=\"-94.9696\" font-family=\"Times,serif\" font-size=\"11.00\" fill=\"#000000\">Strings</text>\n",
       "</a>\n",
       "</g>\n",
       "</g>\n",
       "<!-- numpy_column_selector_0&#45;&gt;compress_strings -->\n",
       "<g id=\"edge1\" class=\"edge\">\n",
       "<title>numpy_column_selector_0&#45;&gt;compress_strings</title>\n",
       "<path fill=\"none\" stroke=\"#000000\" d=\"M79.2972,-103.7696C87.4737,-103.7696 96.2497,-103.7696 104.9433,-103.7696\"/>\n",
       "<polygon fill=\"#000000\" stroke=\"#000000\" points=\"105.0703,-107.2697 115.0702,-103.7696 105.0702,-100.2697 105.0703,-107.2697\"/>\n",
       "</g>\n",
       "<!-- numpy_replace_missing_values_0 -->\n",
       "<g id=\"node3\" class=\"node\">\n",
       "<title>numpy_replace_missing_values_0</title>\n",
       "<g id=\"a_node3\"><a xlink:href=\"https://lale.readthedocs.io/en/latest/modules/lale.lib.autoai_libs.numpy_replace_missing_values.html\" xlink:title=\"numpy_replace_missing_values_0 = NumpyReplaceMissingValues(filling_values=float(&#39;nan&#39;), missing_values=[])\">\n",
       "<ellipse fill=\"#ffffff\" stroke=\"#000000\" cx=\"288.3747\" cy=\"-103.7696\" rx=\"39.6962\" ry=\"36.5405\"/>\n",
       "<text text-anchor=\"middle\" x=\"288.3747\" y=\"-118.9696\" font-family=\"Times,serif\" font-size=\"11.00\" fill=\"#000000\">Numpy&#45;</text>\n",
       "<text text-anchor=\"middle\" x=\"288.3747\" y=\"-106.9696\" font-family=\"Times,serif\" font-size=\"11.00\" fill=\"#000000\">Replace&#45;</text>\n",
       "<text text-anchor=\"middle\" x=\"288.3747\" y=\"-94.9696\" font-family=\"Times,serif\" font-size=\"11.00\" fill=\"#000000\">Missing&#45;</text>\n",
       "<text text-anchor=\"middle\" x=\"288.3747\" y=\"-82.9696\" font-family=\"Times,serif\" font-size=\"11.00\" fill=\"#000000\">Values</text>\n",
       "</a>\n",
       "</g>\n",
       "</g>\n",
       "<!-- compress_strings&#45;&gt;numpy_replace_missing_values_0 -->\n",
       "<g id=\"edge2\" class=\"edge\">\n",
       "<title>compress_strings&#45;&gt;numpy_replace_missing_values_0</title>\n",
       "<path fill=\"none\" stroke=\"#000000\" d=\"M212.7909,-103.7696C221.2105,-103.7696 229.9737,-103.7696 238.4231,-103.7696\"/>\n",
       "<polygon fill=\"#000000\" stroke=\"#000000\" points=\"238.5296,-107.2697 248.5296,-103.7696 238.5296,-100.2697 238.5296,-107.2697\"/>\n",
       "</g>\n",
       "<!-- numpy_replace_unknown_values -->\n",
       "<g id=\"node4\" class=\"node\">\n",
       "<title>numpy_replace_unknown_values</title>\n",
       "<g id=\"a_node4\"><a xlink:href=\"https://lale.readthedocs.io/en/latest/modules/lale.lib.autoai_libs.numpy_replace_unknown_values.html\" xlink:title=\"numpy_replace_unknown_values = NumpyReplaceUnknownValues(filling_values=float(&#39;nan&#39;), filling_values_list=[float(&#39;nan&#39;), float(&#39;nan&#39;), float(&#39;nan&#39;), float(&#39;nan&#39;), float(&#39;nan&#39;), float(&#39;nan&#39;), float(&#39;nan&#39;)], known_values_list=[[0, 1, 2, 3, 4, 5, 6, 7, 8, 9, 10, 11, 12, 13, 14, 15, 16, 17, 18, 19, 20, 21, 22, 2...)\">\n",
       "<ellipse fill=\"#ffffff\" stroke=\"#000000\" cx=\"410.6417\" cy=\"-103.7696\" rx=\"46.8387\" ry=\"36.5405\"/>\n",
       "<text text-anchor=\"middle\" x=\"410.6417\" y=\"-118.9696\" font-family=\"Times,serif\" font-size=\"11.00\" fill=\"#000000\">Numpy&#45;</text>\n",
       "<text text-anchor=\"middle\" x=\"410.6417\" y=\"-106.9696\" font-family=\"Times,serif\" font-size=\"11.00\" fill=\"#000000\">Replace&#45;</text>\n",
       "<text text-anchor=\"middle\" x=\"410.6417\" y=\"-94.9696\" font-family=\"Times,serif\" font-size=\"11.00\" fill=\"#000000\">Unknown&#45;</text>\n",
       "<text text-anchor=\"middle\" x=\"410.6417\" y=\"-82.9696\" font-family=\"Times,serif\" font-size=\"11.00\" fill=\"#000000\">Values</text>\n",
       "</a>\n",
       "</g>\n",
       "</g>\n",
       "<!-- numpy_replace_missing_values_0&#45;&gt;numpy_replace_unknown_values -->\n",
       "<g id=\"edge3\" class=\"edge\">\n",
       "<title>numpy_replace_missing_values_0&#45;&gt;numpy_replace_unknown_values</title>\n",
       "<path fill=\"none\" stroke=\"#000000\" d=\"M328.0713,-103.7696C336.2906,-103.7696 345.1018,-103.7696 353.7968,-103.7696\"/>\n",
       "<polygon fill=\"#000000\" stroke=\"#000000\" points=\"353.9081,-107.2697 363.9081,-103.7696 353.908,-100.2697 353.9081,-107.2697\"/>\n",
       "</g>\n",
       "<!-- boolean2float -->\n",
       "<g id=\"node5\" class=\"node\">\n",
       "<title>boolean2float</title>\n",
       "<g id=\"a_node5\"><a xlink:href=\"https://lale.readthedocs.io/en/latest/modules/lale.lib.autoai_libs.boolean2float.html\" xlink:title=\"boolean2float = boolean2float()\">\n",
       "<ellipse fill=\"#ffffff\" stroke=\"#000000\" cx=\"541.3122\" cy=\"-100.7696\" rx=\"48.0029\" ry=\"18\"/>\n",
       "<text text-anchor=\"middle\" x=\"541.3122\" y=\"-97.9696\" font-family=\"Times,serif\" font-size=\"11.00\" fill=\"#000000\">boolean2float</text>\n",
       "</a>\n",
       "</g>\n",
       "</g>\n",
       "<!-- numpy_replace_unknown_values&#45;&gt;boolean2float -->\n",
       "<g id=\"edge4\" class=\"edge\">\n",
       "<title>numpy_replace_unknown_values&#45;&gt;boolean2float</title>\n",
       "<path fill=\"none\" stroke=\"#000000\" d=\"M457.4477,-102.695C465.6736,-102.5061 474.3268,-102.3074 482.8237,-102.1124\"/>\n",
       "<polygon fill=\"#000000\" stroke=\"#000000\" points=\"483.1545,-105.6058 493.0715,-101.8771 482.9938,-98.6076 483.1545,-105.6058\"/>\n",
       "</g>\n",
       "<!-- cat_imputer -->\n",
       "<g id=\"node6\" class=\"node\">\n",
       "<title>cat_imputer</title>\n",
       "<g id=\"a_node6\"><a xlink:href=\"https://lale.readthedocs.io/en/latest/modules/lale.lib.autoai_libs.cat_imputer.html\" xlink:title=\"cat_imputer = CatImputer(missing_values=float(&#39;nan&#39;), sklearn_version_family=&#39;20&#39;, strategy=&#39;most_frequent&#39;)\">\n",
       "<ellipse fill=\"#ffffff\" stroke=\"#000000\" cx=\"663.4974\" cy=\"-98.7696\" rx=\"38.3684\" ry=\"19.6\"/>\n",
       "<text text-anchor=\"middle\" x=\"663.4974\" y=\"-101.9696\" font-family=\"Times,serif\" font-size=\"11.00\" fill=\"#000000\">Cat&#45;</text>\n",
       "<text text-anchor=\"middle\" x=\"663.4974\" y=\"-89.9696\" font-family=\"Times,serif\" font-size=\"11.00\" fill=\"#000000\">Imputer</text>\n",
       "</a>\n",
       "</g>\n",
       "</g>\n",
       "<!-- boolean2float&#45;&gt;cat_imputer -->\n",
       "<g id=\"edge5\" class=\"edge\">\n",
       "<title>boolean2float&#45;&gt;cat_imputer</title>\n",
       "<path fill=\"none\" stroke=\"#000000\" d=\"M589.603,-99.9791C597.8577,-99.844 606.4389,-99.7035 614.7066,-99.5682\"/>\n",
       "<polygon fill=\"#000000\" stroke=\"#000000\" points=\"615.0217,-103.0636 624.963,-99.4003 614.9071,-96.0645 615.0217,-103.0636\"/>\n",
       "</g>\n",
       "<!-- cat_encoder -->\n",
       "<g id=\"node7\" class=\"node\">\n",
       "<title>cat_encoder</title>\n",
       "<g id=\"a_node7\"><a xlink:href=\"https://lale.readthedocs.io/en/latest/modules/lale.lib.autoai_libs.cat_encoder.html\" xlink:title=\"cat_encoder = CatEncoder(dtype=np.float64, handle_unknown=&#39;error&#39;, sklearn_version_family=&#39;20&#39;)\">\n",
       "<ellipse fill=\"#ffffff\" stroke=\"#000000\" cx=\"783.6431\" cy=\"-97.7696\" rx=\"38.3684\" ry=\"19.6\"/>\n",
       "<text text-anchor=\"middle\" x=\"783.6431\" y=\"-100.9696\" font-family=\"Times,serif\" font-size=\"11.00\" fill=\"#000000\">Cat&#45;</text>\n",
       "<text text-anchor=\"middle\" x=\"783.6431\" y=\"-88.9696\" font-family=\"Times,serif\" font-size=\"11.00\" fill=\"#000000\">Encoder</text>\n",
       "</a>\n",
       "</g>\n",
       "</g>\n",
       "<!-- cat_imputer&#45;&gt;cat_encoder -->\n",
       "<g id=\"edge6\" class=\"edge\">\n",
       "<title>cat_imputer&#45;&gt;cat_encoder</title>\n",
       "<path fill=\"none\" stroke=\"#000000\" d=\"M701.8426,-98.4504C712.4636,-98.362 724.1318,-98.2649 735.2455,-98.1724\"/>\n",
       "<polygon fill=\"#000000\" stroke=\"#000000\" points=\"735.2796,-101.6723 745.2501,-98.0891 735.2213,-94.6726 735.2796,-101.6723\"/>\n",
       "</g>\n",
       "<!-- float32_transform_0 -->\n",
       "<g id=\"node8\" class=\"node\">\n",
       "<title>float32_transform_0</title>\n",
       "<g id=\"a_node8\"><a xlink:href=\"https://lale.readthedocs.io/en/latest/modules/lale.lib.autoai_libs.float32_transform.html\" xlink:title=\"float32_transform_0 = float32_transform()\">\n",
       "<ellipse fill=\"#ffffff\" stroke=\"#000000\" cx=\"910.8599\" cy=\"-94.7696\" rx=\"45.011\" ry=\"19.6\"/>\n",
       "<text text-anchor=\"middle\" x=\"910.8599\" y=\"-97.9696\" font-family=\"Times,serif\" font-size=\"11.00\" fill=\"#000000\">float32_&#45;</text>\n",
       "<text text-anchor=\"middle\" x=\"910.8599\" y=\"-85.9696\" font-family=\"Times,serif\" font-size=\"11.00\" fill=\"#000000\">transform</text>\n",
       "</a>\n",
       "</g>\n",
       "</g>\n",
       "<!-- cat_encoder&#45;&gt;float32_transform_0 -->\n",
       "<g id=\"edge7\" class=\"edge\">\n",
       "<title>cat_encoder&#45;&gt;float32_transform_0</title>\n",
       "<path fill=\"none\" stroke=\"#000000\" d=\"M821.8123,-96.8695C832.3469,-96.621 843.996,-96.3463 855.3005,-96.0797\"/>\n",
       "<polygon fill=\"#000000\" stroke=\"#000000\" points=\"855.6287,-99.5731 865.5434,-95.8382 855.4636,-92.575 855.6287,-99.5731\"/>\n",
       "</g>\n",
       "<!-- concat_features -->\n",
       "<g id=\"node15\" class=\"node\">\n",
       "<title>concat_features</title>\n",
       "<g id=\"a_node15\"><a xlink:href=\"https://lale.readthedocs.io/en/latest/modules/lale.lib.lale.concat_features.html\" xlink:title=\"concat_features = ConcatFeatures()\">\n",
       "<ellipse fill=\"#ffffff\" stroke=\"#000000\" cx=\"1032.4198\" cy=\"-68.7696\" rx=\"40.1111\" ry=\"19.6\"/>\n",
       "<text text-anchor=\"middle\" x=\"1032.4198\" y=\"-71.9696\" font-family=\"Times,serif\" font-size=\"11.00\" fill=\"#000000\">Concat&#45;</text>\n",
       "<text text-anchor=\"middle\" x=\"1032.4198\" y=\"-59.9696\" font-family=\"Times,serif\" font-size=\"11.00\" fill=\"#000000\">Features</text>\n",
       "</a>\n",
       "</g>\n",
       "</g>\n",
       "<!-- float32_transform_0&#45;&gt;concat_features -->\n",
       "<g id=\"edge13\" class=\"edge\">\n",
       "<title>float32_transform_0&#45;&gt;concat_features</title>\n",
       "<path fill=\"none\" stroke=\"#000000\" d=\"M951.6757,-86.0396C962.4485,-83.7354 974.1626,-81.23 985.2412,-78.8604\"/>\n",
       "<polygon fill=\"#000000\" stroke=\"#000000\" points=\"986.1448,-82.2464 995.1916,-76.7322 984.6807,-75.4012 986.1448,-82.2464\"/>\n",
       "</g>\n",
       "<!-- numpy_column_selector_1 -->\n",
       "<g id=\"node9\" class=\"node\">\n",
       "<title>numpy_column_selector_1</title>\n",
       "<g id=\"a_node9\"><a xlink:href=\"https://lale.readthedocs.io/en/latest/modules/lale.lib.autoai_libs.numpy_column_selector.html\" xlink:title=\"numpy_column_selector_1 = NumpyColumnSelector(columns=[0, 8])\">\n",
       "<ellipse fill=\"#ffffff\" stroke=\"#000000\" cx=\"288.3747\" cy=\"-31.7696\" rx=\"39.6962\" ry=\"28.0702\"/>\n",
       "<text text-anchor=\"middle\" x=\"288.3747\" y=\"-40.9696\" font-family=\"Times,serif\" font-size=\"11.00\" fill=\"#000000\">Numpy&#45;</text>\n",
       "<text text-anchor=\"middle\" x=\"288.3747\" y=\"-28.9696\" font-family=\"Times,serif\" font-size=\"11.00\" fill=\"#000000\">Column&#45;</text>\n",
       "<text text-anchor=\"middle\" x=\"288.3747\" y=\"-16.9696\" font-family=\"Times,serif\" font-size=\"11.00\" fill=\"#000000\">Selector</text>\n",
       "</a>\n",
       "</g>\n",
       "</g>\n",
       "<!-- float_str2_float -->\n",
       "<g id=\"node10\" class=\"node\">\n",
       "<title>float_str2_float</title>\n",
       "<g id=\"a_node10\"><a xlink:href=\"https://lale.readthedocs.io/en/latest/modules/lale.lib.autoai_libs.float_str2_float.html\" xlink:title=\"float_str2_float = FloatStr2Float(dtypes_list=[&#39;int_num&#39;, &#39;int_num&#39;], missing_values_reference_list=[])\">\n",
       "<ellipse fill=\"#ffffff\" stroke=\"#000000\" cx=\"410.6417\" cy=\"-31.7696\" rx=\"28.0702\" ry=\"28.0702\"/>\n",
       "<text text-anchor=\"middle\" x=\"410.6417\" y=\"-40.9696\" font-family=\"Times,serif\" font-size=\"11.00\" fill=\"#000000\">Float&#45;</text>\n",
       "<text text-anchor=\"middle\" x=\"410.6417\" y=\"-28.9696\" font-family=\"Times,serif\" font-size=\"11.00\" fill=\"#000000\">Str2&#45;</text>\n",
       "<text text-anchor=\"middle\" x=\"410.6417\" y=\"-16.9696\" font-family=\"Times,serif\" font-size=\"11.00\" fill=\"#000000\">Float</text>\n",
       "</a>\n",
       "</g>\n",
       "</g>\n",
       "<!-- numpy_column_selector_1&#45;&gt;float_str2_float -->\n",
       "<g id=\"edge8\" class=\"edge\">\n",
       "<title>numpy_column_selector_1&#45;&gt;float_str2_float</title>\n",
       "<path fill=\"none\" stroke=\"#000000\" d=\"M328.0713,-31.7696C342.0737,-31.7696 357.7941,-31.7696 371.7309,-31.7696\"/>\n",
       "<polygon fill=\"#000000\" stroke=\"#000000\" points=\"371.9828,-35.2697 381.9828,-31.7696 371.9827,-28.2697 371.9828,-35.2697\"/>\n",
       "</g>\n",
       "<!-- numpy_replace_missing_values_1 -->\n",
       "<g id=\"node11\" class=\"node\">\n",
       "<title>numpy_replace_missing_values_1</title>\n",
       "<g id=\"a_node11\"><a xlink:href=\"https://lale.readthedocs.io/en/latest/modules/lale.lib.autoai_libs.numpy_replace_missing_values.html\" xlink:title=\"numpy_replace_missing_values_1 = NumpyReplaceMissingValues(filling_values=float(&#39;nan&#39;), missing_values=[])\">\n",
       "<ellipse fill=\"#ffffff\" stroke=\"#000000\" cx=\"541.3122\" cy=\"-36.7696\" rx=\"39.6962\" ry=\"36.5405\"/>\n",
       "<text text-anchor=\"middle\" x=\"541.3122\" y=\"-51.9696\" font-family=\"Times,serif\" font-size=\"11.00\" fill=\"#000000\">Numpy&#45;</text>\n",
       "<text text-anchor=\"middle\" x=\"541.3122\" y=\"-39.9696\" font-family=\"Times,serif\" font-size=\"11.00\" fill=\"#000000\">Replace&#45;</text>\n",
       "<text text-anchor=\"middle\" x=\"541.3122\" y=\"-27.9696\" font-family=\"Times,serif\" font-size=\"11.00\" fill=\"#000000\">Missing&#45;</text>\n",
       "<text text-anchor=\"middle\" x=\"541.3122\" y=\"-15.9696\" font-family=\"Times,serif\" font-size=\"11.00\" fill=\"#000000\">Values</text>\n",
       "</a>\n",
       "</g>\n",
       "</g>\n",
       "<!-- float_str2_float&#45;&gt;numpy_replace_missing_values_1 -->\n",
       "<g id=\"edge9\" class=\"edge\">\n",
       "<title>float_str2_float&#45;&gt;numpy_replace_missing_values_1</title>\n",
       "<path fill=\"none\" stroke=\"#000000\" d=\"M438.9953,-32.8545C454.3054,-33.4403 473.6552,-34.1807 491.3963,-34.8596\"/>\n",
       "<polygon fill=\"#000000\" stroke=\"#000000\" points=\"491.4868,-38.3655 501.6134,-35.2505 491.7546,-31.3706 491.4868,-38.3655\"/>\n",
       "</g>\n",
       "<!-- num_imputer -->\n",
       "<g id=\"node12\" class=\"node\">\n",
       "<title>num_imputer</title>\n",
       "<g id=\"a_node12\"><a xlink:href=\"https://lale.readthedocs.io/en/latest/modules/lale.lib.autoai_libs.num_imputer.html\" xlink:title=\"num_imputer = NumImputer(missing_values=float(&#39;nan&#39;), strategy=&#39;median&#39;)\">\n",
       "<ellipse fill=\"#ffffff\" stroke=\"#000000\" cx=\"663.4974\" cy=\"-39.7696\" rx=\"38.3684\" ry=\"19.6\"/>\n",
       "<text text-anchor=\"middle\" x=\"663.4974\" y=\"-42.9696\" font-family=\"Times,serif\" font-size=\"11.00\" fill=\"#000000\">Num&#45;</text>\n",
       "<text text-anchor=\"middle\" x=\"663.4974\" y=\"-30.9696\" font-family=\"Times,serif\" font-size=\"11.00\" fill=\"#000000\">Imputer</text>\n",
       "</a>\n",
       "</g>\n",
       "</g>\n",
       "<!-- numpy_replace_missing_values_1&#45;&gt;num_imputer -->\n",
       "<g id=\"edge10\" class=\"edge\">\n",
       "<title>numpy_replace_missing_values_1&#45;&gt;num_imputer</title>\n",
       "<path fill=\"none\" stroke=\"#000000\" d=\"M580.9822,-37.7436C591.8657,-38.0108 603.7878,-38.3035 615.102,-38.5813\"/>\n",
       "<polygon fill=\"#000000\" stroke=\"#000000\" points=\"615.1916,-42.0845 625.2745,-38.8311 615.3634,-35.0866 615.1916,-42.0845\"/>\n",
       "</g>\n",
       "<!-- opt_standard_scaler -->\n",
       "<g id=\"node13\" class=\"node\">\n",
       "<title>opt_standard_scaler</title>\n",
       "<g id=\"a_node13\"><a xlink:href=\"https://lale.readthedocs.io/en/latest/modules/lale.lib.autoai_libs.opt_standard_scaler.html\" xlink:title=\"opt_standard_scaler = OptStandardScaler(num_scaler_copy=None, num_scaler_with_mean=None, num_scaler_with_std=None, use_scaler_flag=False)\">\n",
       "<ellipse fill=\"#ffffff\" stroke=\"#000000\" cx=\"783.6431\" cy=\"-41.7696\" rx=\"45.9239\" ry=\"28.0702\"/>\n",
       "<text text-anchor=\"middle\" x=\"783.6431\" y=\"-50.9696\" font-family=\"Times,serif\" font-size=\"11.00\" fill=\"#000000\">Opt&#45;</text>\n",
       "<text text-anchor=\"middle\" x=\"783.6431\" y=\"-38.9696\" font-family=\"Times,serif\" font-size=\"11.00\" fill=\"#000000\">Standard&#45;</text>\n",
       "<text text-anchor=\"middle\" x=\"783.6431\" y=\"-26.9696\" font-family=\"Times,serif\" font-size=\"11.00\" fill=\"#000000\">Scaler</text>\n",
       "</a>\n",
       "</g>\n",
       "</g>\n",
       "<!-- num_imputer&#45;&gt;opt_standard_scaler -->\n",
       "<g id=\"edge11\" class=\"edge\">\n",
       "<title>num_imputer&#45;&gt;opt_standard_scaler</title>\n",
       "<path fill=\"none\" stroke=\"#000000\" d=\"M701.8426,-40.4079C710.0363,-40.5443 718.8534,-40.691 727.5582,-40.8359\"/>\n",
       "<polygon fill=\"#000000\" stroke=\"#000000\" points=\"727.6245,-44.3374 737.6814,-41.0045 727.7411,-37.3384 727.6245,-44.3374\"/>\n",
       "</g>\n",
       "<!-- float32_transform_1 -->\n",
       "<g id=\"node14\" class=\"node\">\n",
       "<title>float32_transform_1</title>\n",
       "<g id=\"a_node14\"><a xlink:href=\"https://lale.readthedocs.io/en/latest/modules/lale.lib.autoai_libs.float32_transform.html\" xlink:title=\"float32_transform_1 = float32_transform()\">\n",
       "<ellipse fill=\"#ffffff\" stroke=\"#000000\" cx=\"910.8599\" cy=\"-45.7696\" rx=\"45.011\" ry=\"19.6\"/>\n",
       "<text text-anchor=\"middle\" x=\"910.8599\" y=\"-48.9696\" font-family=\"Times,serif\" font-size=\"11.00\" fill=\"#000000\">float32_&#45;</text>\n",
       "<text text-anchor=\"middle\" x=\"910.8599\" y=\"-36.9696\" font-family=\"Times,serif\" font-size=\"11.00\" fill=\"#000000\">transform</text>\n",
       "</a>\n",
       "</g>\n",
       "</g>\n",
       "<!-- opt_standard_scaler&#45;&gt;float32_transform_1 -->\n",
       "<g id=\"edge12\" class=\"edge\">\n",
       "<title>opt_standard_scaler&#45;&gt;float32_transform_1</title>\n",
       "<path fill=\"none\" stroke=\"#000000\" d=\"M829.5713,-43.2136C837.9606,-43.4774 846.7956,-43.7552 855.4265,-44.0266\"/>\n",
       "<polygon fill=\"#000000\" stroke=\"#000000\" points=\"855.3206,-47.5249 865.4256,-44.341 855.5406,-40.5284 855.3206,-47.5249\"/>\n",
       "</g>\n",
       "<!-- float32_transform_1&#45;&gt;concat_features -->\n",
       "<g id=\"edge14\" class=\"edge\">\n",
       "<title>float32_transform_1&#45;&gt;concat_features</title>\n",
       "<path fill=\"none\" stroke=\"#000000\" d=\"M952.6939,-53.6848C962.9988,-55.6346 974.111,-57.7371 984.6722,-59.7354\"/>\n",
       "<polygon fill=\"#000000\" stroke=\"#000000\" points=\"984.1085,-63.1907 994.5849,-61.6109 985.4099,-56.3128 984.1085,-63.1907\"/>\n",
       "</g>\n",
       "<!-- numpy_permute_array -->\n",
       "<g id=\"node16\" class=\"node\">\n",
       "<title>numpy_permute_array</title>\n",
       "<g id=\"a_node16\"><a xlink:href=\"https://lale.readthedocs.io/en/latest/modules/lale.lib.autoai_libs.numpy_permute_array.html\" xlink:title=\"numpy_permute_array = NumpyPermuteArray(axis=0, permutation_indices=[1, 2, 3, 4, 5, 6, 7, 0, 8])\">\n",
       "<ellipse fill=\"#ffffff\" stroke=\"#000000\" cx=\"1151.1513\" cy=\"-68.7696\" rx=\"42.3529\" ry=\"28.0702\"/>\n",
       "<text text-anchor=\"middle\" x=\"1151.1513\" y=\"-77.9696\" font-family=\"Times,serif\" font-size=\"11.00\" fill=\"#000000\">Numpy&#45;</text>\n",
       "<text text-anchor=\"middle\" x=\"1151.1513\" y=\"-65.9696\" font-family=\"Times,serif\" font-size=\"11.00\" fill=\"#000000\">Permute&#45;</text>\n",
       "<text text-anchor=\"middle\" x=\"1151.1513\" y=\"-53.9696\" font-family=\"Times,serif\" font-size=\"11.00\" fill=\"#000000\">Array</text>\n",
       "</a>\n",
       "</g>\n",
       "</g>\n",
       "<!-- concat_features&#45;&gt;numpy_permute_array -->\n",
       "<g id=\"edge15\" class=\"edge\">\n",
       "<title>concat_features&#45;&gt;numpy_permute_array</title>\n",
       "<path fill=\"none\" stroke=\"#000000\" d=\"M1072.9484,-68.7696C1081.0676,-68.7696 1089.7112,-68.7696 1098.1793,-68.7696\"/>\n",
       "<polygon fill=\"#000000\" stroke=\"#000000\" points=\"1098.3744,-72.2697 1108.3743,-68.7696 1098.3743,-65.2697 1098.3744,-72.2697\"/>\n",
       "</g>\n",
       "<!-- gradient_boosting_classifier -->\n",
       "<g id=\"node17\" class=\"node\">\n",
       "<title>gradient_boosting_classifier</title>\n",
       "<g id=\"a_node17\"><a xlink:href=\"https://lale.readthedocs.io/en/latest/modules/lale.lib.sklearn.gradient_boosting_classifier.html\" xlink:title=\"gradient_boosting_classifier = GradientBoostingClassifier(random_state=33)\">\n",
       "<ellipse fill=\"#ffffff\" stroke=\"#000000\" cx=\"1273.4183\" cy=\"-68.7696\" rx=\"43.6818\" ry=\"28.0702\"/>\n",
       "<text text-anchor=\"middle\" x=\"1273.4183\" y=\"-77.9696\" font-family=\"Times,serif\" font-size=\"11.00\" fill=\"#000000\">Gradient&#45;</text>\n",
       "<text text-anchor=\"middle\" x=\"1273.4183\" y=\"-65.9696\" font-family=\"Times,serif\" font-size=\"11.00\" fill=\"#000000\">Boosting&#45;</text>\n",
       "<text text-anchor=\"middle\" x=\"1273.4183\" y=\"-53.9696\" font-family=\"Times,serif\" font-size=\"11.00\" fill=\"#000000\">Classifier</text>\n",
       "</a>\n",
       "</g>\n",
       "</g>\n",
       "<!-- numpy_permute_array&#45;&gt;gradient_boosting_classifier -->\n",
       "<g id=\"edge16\" class=\"edge\">\n",
       "<title>numpy_permute_array&#45;&gt;gradient_boosting_classifier</title>\n",
       "<path fill=\"none\" stroke=\"#000000\" d=\"M1193.9144,-68.7696C1202.0414,-68.7696 1210.6459,-68.7696 1219.076,-68.7696\"/>\n",
       "<polygon fill=\"#000000\" stroke=\"#000000\" points=\"1219.2285,-72.2697 1229.2285,-68.7696 1219.2285,-65.2697 1219.2285,-72.2697\"/>\n",
       "</g>\n",
       "</g>\n",
       "</svg>\n"
      ],
      "text/plain": [
       "<graphviz.dot.Digraph at 0x7efe75cb9f98>"
      ]
     },
     "metadata": {},
     "output_type": "display_data"
    }
   ],
   "source": [
    "pipeline_model.visualize()"
   ]
  },
  {
   "cell_type": "markdown",
   "metadata": {
    "pycharm": {
     "name": "#%% md\n"
    }
   },
   "source": [
    "<a id=\"train_holdout_read\"></a>\n",
    "### Reading training and holdout data\n",
    "\n",
    "Retrieve training dataset from AutoAI experiment as pandas DataFrame."
   ]
  },
  {
   "cell_type": "code",
   "execution_count": 12,
   "metadata": {
    "pycharm": {
     "name": "#%%\n"
    }
   },
   "outputs": [],
   "source": [
    "training_df, holdout_df = optimizer.get_data_connections()[0].read(with_holdout_split=True)\n",
    "\n",
    "train_X = training_df.drop([target_label_name], axis=1).values\n",
    "train_y = training_df[target_label_name].values\n",
    "\n",
    "test_X = holdout_df.drop([target_label_name], axis=1).values\n",
    "y_true = holdout_df[target_label_name].values"
   ]
  },
  {
   "cell_type": "markdown",
   "metadata": {
    "pycharm": {
     "name": "#%% md\n"
    }
   },
   "source": [
    "<a id=\"test_model\"></a>\n",
    "### Test pipeline model locally\n",
    "**Note**: you can chose the metric to evaluate the model by your own, this example contains only a basic scenario."
   ]
  },
  {
   "cell_type": "code",
   "execution_count": 13,
   "metadata": {
    "pycharm": {
     "name": "#%%\n"
    }
   },
   "outputs": [
    {
     "name": "stdout",
     "output_type": "stream",
     "text": [
      "accuracy_score:  0.8796296296296297\n"
     ]
    }
   ],
   "source": [
    "from sklearn.metrics import accuracy_score\n",
    "\n",
    "predictions = pipeline_model.predict(test_X)\n",
    "score = accuracy_score(y_true=y_true, y_pred=predictions)\n",
    "print('accuracy_score: ', score)"
   ]
  },
  {
   "cell_type": "markdown",
   "metadata": {
    "pycharm": {
     "name": "#%% md\n"
    }
   },
   "source": [
    "<a id=\"refinery\"></a>\n",
    "## Pipeline refinery and testing (optional)\n",
    "\n",
    "In this section you will learn how to refine and retrain the best pipeline returned by AutoAI.\n",
    "It can be performed by:\n",
    " - modifying pipeline definition source code\n",
    " - using [lale](https://lale.readthedocs.io/en/latest/) library for semi-automated data science\n",
    "\n",
    "**Note**: In order to run this section change following cells to 'code' cell."
   ]
  },
  {
   "cell_type": "markdown",
   "metadata": {},
   "source": [
    "<a id=\"pipeline_definition\"></a>\n",
    "### Pipeline definition source code\n",
    "Following cell lets you experiment with pipeline definition in python, e.g. change steps parameters.\n",
    "\n",
    "It will inject pipeline definition to the next cell."
   ]
  },
  {
   "cell_type": "raw",
   "metadata": {
    "pycharm": {
     "name": "#%%\n"
    }
   },
   "source": [
    "pipeline_model.pretty_print(combinators=False, ipython_display='input')"
   ]
  },
  {
   "cell_type": "markdown",
   "metadata": {
    "pycharm": {
     "name": "#%% md\n"
    }
   },
   "source": [
    "<a id=\"lale_library\"></a>\n",
    "### Lale library\n",
    "\n",
    "**Note**: This is only an exemplary usage of lale package. You can import more different estimators to refine downloaded pipeline model."
   ]
  },
  {
   "cell_type": "markdown",
   "metadata": {},
   "source": [
    "#### Import estimators"
   ]
  },
  {
   "cell_type": "raw",
   "metadata": {
    "pycharm": {
     "is_executing": false,
     "name": "#%%\n"
    }
   },
   "source": [
    "from sklearn.linear_model import LogisticRegression as E1\n",
    "from sklearn.tree import DecisionTreeClassifier as E2\n",
    "from sklearn.neighbors import KNeighborsClassifier as E3\n",
    "from lale.lib.lale import Hyperopt\n",
    "from lale.operators import TrainedPipeline\n",
    "from lale import wrap_imported_operators\n",
    "from lale.helpers import import_from_sklearn_pipeline\n",
    "wrap_imported_operators()"
   ]
  },
  {
   "cell_type": "markdown",
   "metadata": {
    "pycharm": {
     "name": "#%% md\n"
    }
   },
   "source": [
    "<a id=\"decomposition_definition\"></a>\n",
    "#### Pipeline decomposition and new definition\n",
    "In this step the last stage from pipeline is removed."
   ]
  },
  {
   "cell_type": "raw",
   "metadata": {
    "pycharm": {
     "name": "#%%\n"
    }
   },
   "source": [
    "prefix = pipeline_model.remove_last().freeze_trainable()\n",
    "prefix.visualize()"
   ]
  },
  {
   "cell_type": "raw",
   "metadata": {
    "pycharm": {
     "is_executing": false,
     "name": "#%%\n"
    }
   },
   "source": [
    "new_pipeline = prefix >> (E1 | E2 | E3)\n",
    "new_pipeline.visualize()"
   ]
  },
  {
   "cell_type": "markdown",
   "metadata": {
    "pycharm": {
     "name": "#%% md\n"
    }
   },
   "source": [
    "<a id=\"new_optimizer\"></a>\n",
    "#### New optimizer `hyperopt` configuration and training\n",
    "\n",
    "This section can introduce other results than the original one and it should be used\n",
    "by more advanced users.\n",
    "\n",
    "New pipeline is re-trained by passing train data to it and calling `fit` method."
   ]
  },
  {
   "cell_type": "raw",
   "metadata": {
    "pycharm": {
     "name": "#%%\n"
    }
   },
   "source": [
    "hyperopt = Hyperopt(estimator=new_pipeline, cv=3, max_evals=20)\n",
    "fitted_hyperopt = hyperopt.fit(train_X, train_y)"
   ]
  },
  {
   "cell_type": "raw",
   "metadata": {
    "pycharm": {
     "name": "#%%\n"
    }
   },
   "source": [
    "hyperopt_pipeline = fitted_hyperopt.get_pipeline()\n",
    "new_pipeline = hyperopt_pipeline.export_to_sklearn_pipeline()"
   ]
  },
  {
   "cell_type": "raw",
   "metadata": {
    "pycharm": {
     "name": "#%%\n"
    }
   },
   "source": [
    "predictions = new_pipeline.predict(train_X)"
   ]
  },
  {
   "cell_type": "raw",
   "metadata": {
    "pycharm": {
     "name": "#%%\n"
    }
   },
   "source": [
    "predictions = new_pipeline.predict(test_X)\n",
    "refined_score = accuracy_score(y_true=y_true, y_pred=predictions)\n",
    "print('accuracy_score: ', score)\n",
    "print('refined_accuracy_score: ', refined_score)"
   ]
  },
  {
   "cell_type": "markdown",
   "metadata": {
    "pycharm": {
     "name": "#%% md\n"
    }
   },
   "source": [
    "<a id=\"scoring\"></a>\n",
    "## Deploy and Score\n",
    "\n",
    "In this section you will learn how to deploy and score pipeline model as webservice using WML instance."
   ]
  },
  {
   "cell_type": "markdown",
   "metadata": {},
   "source": [
    "<a id=\"deployment\"></a>\n",
    "### Deployment creation\n",
    "\n",
    "**Action**: Please change:\n",
    " - the pipeline_model to new_pipeline in order to deploy refined pipeline\n",
    " - the deployment name"
   ]
  },
  {
   "cell_type": "code",
   "execution_count": 14,
   "metadata": {
    "pycharm": {
     "name": "#%%\n"
    }
   },
   "outputs": [
    {
     "name": "stdout",
     "output_type": "stream",
     "text": [
      "Preparing an AutoAI Deployment...\n",
      "Published model uid: 02384281-f1fd-48f7-8367-1221295fbf53\n",
      "Deploying model 02384281-f1fd-48f7-8367-1221295fbf53 using V4 client.\n",
      "\n",
      "\n",
      "#######################################################################################\n",
      "\n",
      "Synchronous deployment creation for uid: '02384281-f1fd-48f7-8367-1221295fbf53' started\n",
      "\n",
      "#######################################################################################\n",
      "\n",
      "\n",
      "initializing......\n",
      "ready\n",
      "\n",
      "\n",
      "------------------------------------------------------------------------------------------------\n",
      "Successfully finished deployment creation, deployment_uid='27796879-e411-48b5-a5e6-07ee2c86f22c'\n",
      "------------------------------------------------------------------------------------------------\n",
      "\n",
      "\n"
     ]
    }
   ],
   "source": [
    "from watson_machine_learning_client.deployment import WebService\n",
    "\n",
    "service = WebService(wml_credentials)\n",
    "\n",
    "service.create(\n",
    "    experiment_run_id=run_id,\n",
    "    model=pipeline_model, \n",
    "    deployment_name=f'{pipeline_name}_webservice'\n",
    "    )"
   ]
  },
  {
   "cell_type": "markdown",
   "metadata": {},
   "source": [
    "Deployment object could be printed to show basic information:"
   ]
  },
  {
   "cell_type": "code",
   "execution_count": 15,
   "metadata": {
    "pycharm": {
     "name": "#%%\n"
    }
   },
   "outputs": [
    {
     "name": "stdout",
     "output_type": "stream",
     "text": [
      "name: Pipeline_1_webservice, id: 27796879-e411-48b5-a5e6-07ee2c86f22c, scoring_url: https://us-south.ml.cloud.ibm.com/v4/deployments/27796879-e411-48b5-a5e6-07ee2c86f22c/predictions, asset_id: 02384281-f1fd-48f7-8367-1221295fbf53\n"
     ]
    }
   ],
   "source": [
    "print(service)"
   ]
  },
  {
   "cell_type": "markdown",
   "metadata": {},
   "source": [
    "To be able to show all available information about deployment use `.get_params()` method:"
   ]
  },
  {
   "cell_type": "code",
   "execution_count": 16,
   "metadata": {
    "pycharm": {
     "name": "#%%\n"
    }
   },
   "outputs": [
    {
     "data": {
      "text/plain": [
       "{'metadata': {'parent': {'href': ''},\n",
       "  'name': 'Pipeline_1_webservice',\n",
       "  'guid': '27796879-e411-48b5-a5e6-07ee2c86f22c',\n",
       "  'description': '',\n",
       "  'id': '27796879-e411-48b5-a5e6-07ee2c86f22c',\n",
       "  'modified_at': '2020-05-18T23:41:25.265Z',\n",
       "  'created_at': '2020-05-18T23:40:47.644Z',\n",
       "  'href': '/v4/deployments/27796879-e411-48b5-a5e6-07ee2c86f22c'},\n",
       " 'entity': {'name': 'Pipeline_1_webservice',\n",
       "  'custom': {},\n",
       "  'online': {},\n",
       "  'description': '',\n",
       "  'status': {'state': 'ready',\n",
       "   'online_url': {'url': 'https://us-south.ml.cloud.ibm.com/v4/deployments/27796879-e411-48b5-a5e6-07ee2c86f22c/predictions'}},\n",
       "  'asset': {'href': '/v4/models/02384281-f1fd-48f7-8367-1221295fbf53?rev=55090735-7d96-4e8f-b4dd-0e99199a4adf'}}}"
      ]
     },
     "execution_count": 16,
     "metadata": {},
     "output_type": "execute_result"
    }
   ],
   "source": [
    "service.get_params()"
   ]
  },
  {
   "cell_type": "markdown",
   "metadata": {
    "pycharm": {
     "name": "#%% md\n"
    }
   },
   "source": [
    "<a id=\"online_scoring\"></a>\n",
    "### Scoring of webservice\n",
    "You can make scoring request by calling `score()` on deployed pipeline."
   ]
  },
  {
   "cell_type": "code",
   "execution_count": 17,
   "metadata": {
    "pycharm": {
     "name": "#%%\n"
    }
   },
   "outputs": [
    {
     "data": {
      "text/plain": [
       "{'predictions': [{'fields': ['prediction', 'probability'],\n",
       "   'values': [['N', [0.9161644934847364, 0.08383550651526361]],\n",
       "    ['N', [0.9025438978797533, 0.0974561021202467]],\n",
       "    ['Y', [0.4599473074139254, 0.5400526925860746]],\n",
       "    ['N', [0.949673749709278, 0.05032625029072203]],\n",
       "    ['Y', [0.3298305097218269, 0.6701694902781731]],\n",
       "    ['N', [0.9125966946288253, 0.08740330537117466]],\n",
       "    ['N', [0.9210599526644402, 0.07894004733555986]],\n",
       "    ['N', [0.9591208199169379, 0.04087918008306216]],\n",
       "    ['N', [0.9365587358877339, 0.06344126411226612]],\n",
       "    ['N', [0.945433689151038, 0.05456631084896199]]]}]}"
      ]
     },
     "execution_count": 17,
     "metadata": {},
     "output_type": "execute_result"
    }
   ],
   "source": [
    "predictions = service.score(payload=holdout_df.drop([target_label_name], axis=1).iloc[:10])\n",
    "predictions"
   ]
  },
  {
   "cell_type": "markdown",
   "metadata": {},
   "source": [
    "If you want to work with the webservice in external Python application you can retrieve the service object by:\n",
    " - initialize service by `service = WebService(wml_credentials)`\n",
    " - get deployment_id by `service.list()` method\n",
    " - get webservice object by `service.get('deployment_id')` method\n",
    "\n",
    "After that you can call `service.score()` method."
   ]
  },
  {
   "cell_type": "markdown",
   "metadata": {
    "pycharm": {
     "name": "#%% md\n"
    }
   },
   "source": [
    "<a id=\"delete_deployment\"></a>\n",
    "### Deleting deployment\n",
    "\n",
    "You can delete an existing deployment by calling `service.delete()`."
   ]
  },
  {
   "cell_type": "markdown",
   "metadata": {
    "pycharm": {
     "name": "#%% md\n"
    }
   },
   "source": [
    "<a id=\"authors\"></a>\n",
    "### Authors\n",
    "\n",
    "Licensed Materials - Copyright (C) 2020 IBM. This notebook and its source code are released under the terms of the ILAN License.\n",
    "Use, duplication disclosure restricted by GSA ADP Schedule Contract with IBM Corp.\n",
    "\n",
    "**Note:** The auto-generated notebooks are subject to the International License Agreement for Non-Warranted Programs  \n",
    "(or equivalent) and License Information document for Watson Studio Auto-generated Notebook (License Terms),  \n",
    "such agreements located in the link below. Specifically, the Source Components and Sample Materials clause  \n",
    "included in the License Information document for Watson Studio Auto-generated Notebook applies to the auto-generated notebooks.  \n",
    "\n",
    "By downloading, copying, accessing, or otherwise using the materials, you agree to the <a href=\"http://www14.software.ibm.com/cgi-bin/weblap/lap.pl?li_formnum=L-AMCU-BHU2B7&title=IBM%20Watson%20Studio%20Auto-generated%20Notebook%20V2.1\">License Terms</a>  \n",
    "\n",
    "___"
   ]
  }
 ],
 "metadata": {
  "kernelspec": {
   "display_name": "Python 3.6",
   "language": "python",
   "name": "python3"
  },
  "language_info": {
   "codemirror_mode": {
    "name": "ipython",
    "version": 3
   },
   "file_extension": ".py",
   "mimetype": "text/x-python",
   "name": "python",
   "nbconvert_exporter": "python",
   "pygments_lexer": "ipython3",
   "version": "3.6.9"
  }
 },
 "nbformat": 4,
 "nbformat_minor": 2
}
